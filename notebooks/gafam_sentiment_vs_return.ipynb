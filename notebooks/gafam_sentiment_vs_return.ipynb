{
 "cells": [
  {
   "cell_type": "code",
   "execution_count": 13,
   "id": "a90fe89a",
   "metadata": {},
   "outputs": [
    {
     "name": "stdout",
     "output_type": "stream",
     "text": [
      "▶ 分析中: AAPL\n"
     ]
    },
    {
     "name": "stderr",
     "output_type": "stream",
     "text": [
      "[*********************100%***********************]  1 of 1 completed\n"
     ]
    },
    {
     "name": "stdout",
     "output_type": "stream",
     "text": [
      "▶ 分析中: GOOGL\n"
     ]
    },
    {
     "name": "stderr",
     "output_type": "stream",
     "text": [
      "[*********************100%***********************]  1 of 1 completed\n",
      "/Users/pretz/dev/blackrock-news-sentiment/.venv/lib/python3.12/site-packages/scipy/_lib/deprecation.py:234: SmallSampleWarning: One or more sample arguments is too small; all returned values will be NaN. See documentation for sample size requirements.\n",
      "  return f(*args, **kwargs)\n"
     ]
    },
    {
     "name": "stdout",
     "output_type": "stream",
     "text": [
      "▶ 分析中: META\n"
     ]
    },
    {
     "name": "stderr",
     "output_type": "stream",
     "text": [
      "[*********************100%***********************]  1 of 1 completed\n"
     ]
    },
    {
     "name": "stdout",
     "output_type": "stream",
     "text": [
      "▶ 分析中: AMZN\n"
     ]
    },
    {
     "name": "stderr",
     "output_type": "stream",
     "text": [
      "[*********************100%***********************]  1 of 1 completed\n"
     ]
    },
    {
     "name": "stdout",
     "output_type": "stream",
     "text": [
      "▶ 分析中: MSFT\n"
     ]
    },
    {
     "name": "stderr",
     "output_type": "stream",
     "text": [
      "[*********************100%***********************]  1 of 1 completed\n"
     ]
    },
    {
     "data": {
      "text/html": [
       "<div>\n",
       "<style scoped>\n",
       "    .dataframe tbody tr th:only-of-type {\n",
       "        vertical-align: middle;\n",
       "    }\n",
       "\n",
       "    .dataframe tbody tr th {\n",
       "        vertical-align: top;\n",
       "    }\n",
       "\n",
       "    .dataframe thead th {\n",
       "        text-align: right;\n",
       "    }\n",
       "</style>\n",
       "<table border=\"1\" class=\"dataframe\">\n",
       "  <thead>\n",
       "    <tr style=\"text-align: right;\">\n",
       "      <th></th>\n",
       "      <th>Ticker</th>\n",
       "      <th>N_Pos</th>\n",
       "      <th>N_Neg</th>\n",
       "      <th>Article_Pos</th>\n",
       "      <th>Article_Neg</th>\n",
       "      <th>Article_Neutral</th>\n",
       "      <th>Total_Articles</th>\n",
       "      <th>Mean_Pos</th>\n",
       "      <th>Mean_Neg</th>\n",
       "      <th>T_Stat</th>\n",
       "      <th>P_Value</th>\n",
       "      <th>Correlation</th>\n",
       "    </tr>\n",
       "  </thead>\n",
       "  <tbody>\n",
       "    <tr>\n",
       "      <th>0</th>\n",
       "      <td>AAPL</td>\n",
       "      <td>4</td>\n",
       "      <td>2</td>\n",
       "      <td>558</td>\n",
       "      <td>256</td>\n",
       "      <td>257</td>\n",
       "      <td>1071</td>\n",
       "      <td>0.016174</td>\n",
       "      <td>0.003004</td>\n",
       "      <td>0.761357</td>\n",
       "      <td>0.490187</td>\n",
       "      <td>0.768888</td>\n",
       "    </tr>\n",
       "    <tr>\n",
       "      <th>1</th>\n",
       "      <td>GOOGL</td>\n",
       "      <td>7</td>\n",
       "      <td>0</td>\n",
       "      <td>546</td>\n",
       "      <td>241</td>\n",
       "      <td>248</td>\n",
       "      <td>1035</td>\n",
       "      <td>0.013579</td>\n",
       "      <td>NaN</td>\n",
       "      <td>NaN</td>\n",
       "      <td>NaN</td>\n",
       "      <td>0.176541</td>\n",
       "    </tr>\n",
       "    <tr>\n",
       "      <th>2</th>\n",
       "      <td>META</td>\n",
       "      <td>7</td>\n",
       "      <td>2</td>\n",
       "      <td>564</td>\n",
       "      <td>253</td>\n",
       "      <td>223</td>\n",
       "      <td>1040</td>\n",
       "      <td>0.012669</td>\n",
       "      <td>-0.009201</td>\n",
       "      <td>1.150870</td>\n",
       "      <td>0.336973</td>\n",
       "      <td>0.316031</td>\n",
       "    </tr>\n",
       "    <tr>\n",
       "      <th>3</th>\n",
       "      <td>AMZN</td>\n",
       "      <td>6</td>\n",
       "      <td>1</td>\n",
       "      <td>583</td>\n",
       "      <td>277</td>\n",
       "      <td>200</td>\n",
       "      <td>1060</td>\n",
       "      <td>0.020068</td>\n",
       "      <td>0.013085</td>\n",
       "      <td>NaN</td>\n",
       "      <td>NaN</td>\n",
       "      <td>0.353154</td>\n",
       "    </tr>\n",
       "    <tr>\n",
       "      <th>4</th>\n",
       "      <td>MSFT</td>\n",
       "      <td>6</td>\n",
       "      <td>2</td>\n",
       "      <td>567</td>\n",
       "      <td>301</td>\n",
       "      <td>206</td>\n",
       "      <td>1074</td>\n",
       "      <td>0.002833</td>\n",
       "      <td>0.016231</td>\n",
       "      <td>-1.683517</td>\n",
       "      <td>0.324143</td>\n",
       "      <td>-0.488147</td>\n",
       "    </tr>\n",
       "  </tbody>\n",
       "</table>\n",
       "</div>"
      ],
      "text/plain": [
       "  Ticker  N_Pos  N_Neg  Article_Pos  Article_Neg  Article_Neutral  \\\n",
       "0   AAPL      4      2          558          256              257   \n",
       "1  GOOGL      7      0          546          241              248   \n",
       "2   META      7      2          564          253              223   \n",
       "3   AMZN      6      1          583          277              200   \n",
       "4   MSFT      6      2          567          301              206   \n",
       "\n",
       "   Total_Articles  Mean_Pos  Mean_Neg    T_Stat   P_Value  Correlation  \n",
       "0            1071  0.016174  0.003004  0.761357  0.490187     0.768888  \n",
       "1            1035  0.013579       NaN       NaN       NaN     0.176541  \n",
       "2            1040  0.012669 -0.009201  1.150870  0.336973     0.316031  \n",
       "3            1060  0.020068  0.013085       NaN       NaN     0.353154  \n",
       "4            1074  0.002833  0.016231 -1.683517  0.324143    -0.488147  "
      ]
     },
     "execution_count": 13,
     "metadata": {},
     "output_type": "execute_result"
    }
   ],
   "source": [
    "import pandas as pd\n",
    "import yfinance as yf\n",
    "from datetime import datetime, timedelta\n",
    "from scipy.stats import ttest_ind\n",
    "\n",
    "tickers = [\"AAPL\", \"GOOGL\", \"META\", \"AMZN\", \"MSFT\"]\n",
    "summary_results = []\n",
    "\n",
    "for ticker in tickers:\n",
    "    print(f\"▶ 分析中: {ticker}\")\n",
    "    try:\n",
    "        # データ読み込み\n",
    "        df = pd.read_csv(f\"../data/{ticker}_news_with_sentiment.csv\")\n",
    "        df['date'] = pd.to_datetime(df['datetime']).dt.strftime('%Y-%m-%d')\n",
    "        sentiment_daily = df.groupby('date')['sentiment_score'].mean().reset_index()\n",
    "        sentiment_daily.rename(columns={'date': 'Date', 'sentiment_score': 'SentimentScore'}, inplace=True)\n",
    "\n",
    "        # 株価取得\n",
    "        end_date = datetime.today()\n",
    "        start_date = end_date - timedelta(days=90)\n",
    "        stock = yf.download(ticker, start=start_date.strftime('%Y-%m-%d'), end=end_date.strftime('%Y-%m-%d'))\n",
    "        if isinstance(stock.columns, pd.MultiIndex):\n",
    "            stock.columns = stock.columns.get_level_values(0)\n",
    "\n",
    "        # ✅ 終値と日付だけ抽出・整形（階層を潰す）\n",
    "        stock = stock[['Close']].reset_index()\n",
    "        stock.columns = ['Date', 'Close']  # カラム名を1段に\n",
    "        stock['Date'] = pd.to_datetime(stock['Date']).dt.strftime('%Y-%m-%d')\n",
    "\n",
    "        # マージとリターン\n",
    "        merged = pd.merge(stock, sentiment_daily, on='Date', how='inner')\n",
    "        merged['NextClose'] = merged['Close'].shift(-1)\n",
    "        merged['Return1d'] = (merged['NextClose'] - merged['Close']) / merged['Close']\n",
    "\n",
    "        # t検定と相関\n",
    "        pos = merged[merged['SentimentScore'] > 0]['Return1d'].dropna()\n",
    "        neg = merged[merged['SentimentScore'] < 0]['Return1d'].dropna()\n",
    "        t_stat, p_value = ttest_ind(pos, neg, equal_var=False)\n",
    "        corr = merged[['SentimentScore', 'Return1d']].corr().iloc[0, 1]\n",
    "\n",
    "        # 感情スコア付きの元データ（1記事ごと）\n",
    "        df = pd.read_csv(f\"../data/{ticker}_news_with_sentiment.csv\")\n",
    "\n",
    "        # 🆕 全記事数\n",
    "        num_articles = len(df)\n",
    "\n",
    "        # 🆕 感情別の記事数（positive, negative, neutral）\n",
    "        n_positive_articles = (df['sentiment_score'] > 0).sum()\n",
    "        n_negative_articles = (df['sentiment_score'] < 0).sum()\n",
    "        n_neutral_articles = (df['sentiment_score'] == 0).sum()\n",
    "\n",
    "\n",
    "        summary_results.append({\n",
    "            'Ticker': ticker,\n",
    "            'N_Pos': len(pos),  # 株価リターン付きの「日数」ベース\n",
    "            'N_Neg': len(neg),\n",
    "            'Article_Pos': n_positive_articles,  # 🆕 ポジティブ記事数\n",
    "            'Article_Neg': n_negative_articles,  # 🆕 ネガティブ記事数\n",
    "            'Article_Neutral': n_neutral_articles,\n",
    "            'Total_Articles': num_articles,\n",
    "            'Mean_Pos': pos.mean(),\n",
    "            'Mean_Neg': neg.mean(),\n",
    "            'T_Stat': t_stat,\n",
    "            'P_Value': p_value,\n",
    "            'Correlation': corr\n",
    "        })\n",
    "    except Exception as e:\n",
    "        print(f\"An error has occured: {ticker} → {e}\")\n",
    "\n",
    "summary_df = pd.DataFrame(summary_results)\n",
    "summary_df"
   ]
  },
  {
   "cell_type": "code",
   "execution_count": 14,
   "id": "b76d2dd4",
   "metadata": {},
   "outputs": [
    {
     "data": {
      "text/plain": [
       "<Axes: title={'center': 'Correlation (Sentiment vs Return)'}, ylabel='Ticker'>"
      ]
     },
     "execution_count": 14,
     "metadata": {},
     "output_type": "execute_result"
    },
    {
     "data": {
      "image/png": "[encoded data removed]",
      "text/plain": [
       "<Figure size 600x400 with 1 Axes>"
      ]
     },
     "metadata": {},
     "output_type": "display_data"
    }
   ],
   "source": [
    "summary_df[[\"Ticker\", \"Correlation\"]].set_index(\"Ticker\").plot.barh(figsize=(6,4), legend=False, title=\"Correlation (Sentiment vs Return)\")"
   ]
  }
 ],
 "metadata": {
  "kernelspec": {
   "display_name": ".venv",
   "language": "python",
   "name": "python3"
  },
  "language_info": {
   "codemirror_mode": {
    "name": "ipython",
    "version": 3
   },
   "file_extension": ".py",
   "mimetype": "text/x-python",
   "name": "python",
   "nbconvert_exporter": "python",
   "pygments_lexer": "ipython3",
   "version": "3.12.1"
  }
 },
 "nbformat": 4,
 "nbformat_minor": 5
}
