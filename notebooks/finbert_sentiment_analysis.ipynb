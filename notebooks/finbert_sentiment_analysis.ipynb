{
 "cells": [
  {
   "cell_type": "markdown",
   "id": "40f4d00c",
   "metadata": {},
   "source": [
    "## インポートとモデル準備"
   ]
  },
  {
   "cell_type": "code",
   "execution_count": null,
   "id": "0bcd8e43",
   "metadata": {},
   "outputs": [],
   "source": [
    "from transformers import AutoTokenizer, AutoModelForSequenceClassification\n",
    "import torch\n",
    "import pandas as pd\n",
    "\n",
    "MODEL_NAME = \"prosusAI/finbert\"\n",
    "tokenizer = AutoTokenizer.from_pretrained(MODEL_NAME)\n",
    "model = AutoModelForSequenceClassification.from_pretrained(MODEL_NAME)\n",
    "labels = ['negative', 'neutral', 'positive']"
   ]
  },
  {
   "cell_type": "markdown",
   "id": "4886583c",
   "metadata": {},
   "source": [
    "## ニュースcsvの読み込み"
   ]
  },
  {
   "cell_type": "code",
   "execution_count": null,
   "id": "f61e9403",
   "metadata": {},
   "outputs": [],
   "source": [
    "ticker = \"BLK\"\n",
    "csv_path = f\"../data/{ticker}_news_finnhub_20250518.csv\"\n",
    "\n",
    "df = pd.read_csv(csv_path)\n",
    "\n",
    "# 感情分析対象のテキスト（headline + summary)\n",
    "texts = df['headline'].fillna('') + '. ' + df['summary'].fillna('')"
   ]
  },
  {
   "cell_type": "markdown",
   "id": "61540b3f",
   "metadata": {},
   "source": [
    "## 感情分析関数の定義"
   ]
  },
  {
   "cell_type": "code",
   "execution_count": null,
   "id": "c3e5abab",
   "metadata": {},
   "outputs": [],
   "source": [
    "def get_sentiment(text):\n",
    "    inputs = tokenizer(text, return_tensors=\"pt\", truncation=True, padding=True)\n",
    "    with torch.no_grad():\n",
    "        outputs = model(**inputs)\n",
    "        probs = torch.nn.functional.softmax(outputs.logits, dim=1)\n",
    "        pred = torch.argmax(probs, dim=1).item()\n",
    "    return labels[pred]"
   ]
  },
  {
   "cell_type": "markdown",
   "id": "2ac7daa2",
   "metadata": {},
   "source": [
    "## 分析実行"
   ]
  },
  {
   "cell_type": "code",
   "execution_count": null,
   "id": "ab4c4dfd",
   "metadata": {},
   "outputs": [],
   "source": [
    "df['sentiment_finbert'] = texts.apply(get_sentiment)\n",
    "\n",
    "# 数値スコアに変換(positive=1, neutral=0, negative=-1)\n",
    "sentiment_map = {'positive': 1, 'neutral': 0, 'negative': -1}\n",
    "df['sentiment_score'] = df['sentiment_finbert'].map(sentiment_map)\n",
    "\n",
    "output_path = f\"../data/{ticker}_news_with_sentiment.csv\"\n",
    "df.to_csv(output_path, index=False)\n",
    "\n",
    "print(f\"analysis completed {output_path}\")"
   ]
  },
  {
   "cell_type": "markdown",
   "id": "fb536a67",
   "metadata": {},
   "source": [
    "## FinBERT感情と株価の相関分析"
   ]
  },
  {
   "cell_type": "code",
   "execution_count": null,
   "id": "a4c8ebe8",
   "metadata": {},
   "outputs": [],
   "source": [
    "import yfinance as yf\n",
    "import pandas as pd\n",
    "from datetime import datetime, timedelta\n",
    "\n",
    "# 銘柄\n",
    "ticker = \"BLK\"\n",
    "\n",
    "# 過去30日の株価取得\n",
    "end_date = datetime.today()\n",
    "start_date = end_date - timedelta(days=30)\n",
    "stock_data = yf.download(ticker, start=start_date.strftime('%Y-%m-%d'), end=end_date.strftime('%Y-%m-%d'))\n",
    "\n",
    "# 株価データ\n",
    "stock_df = stock_data[['Close']]\n",
    "stock_df = stock_df.reset_index()\n",
    "stock_df.columns = ['Date', 'Close']\n",
    "stock_df['Date'] = stock_df['Date'].dt.strftime('%Y-%m-%d')\n",
    "\n",
    "# 感情データ読み込み\n",
    "sentiment_df = pd.read_csv(f\"../data/{ticker}_news_with_sentiment.csv\")\n",
    "sentiment_df['date'] = pd.to_datetime(sentiment_df['datetime']).dt.strftime('%Y-%m-%d')\n",
    "daily_sentiment = sentiment_df.groupby('date')['sentiment_score'].mean().reset_index()\n",
    "daily_sentiment.rename(columns={'date': 'Date', 'sentiment_score': 'SentimentScore'}, inplace=True)\n",
    "\n",
    "# merge\n",
    "merged_df = pd.merge(stock_df, daily_sentiment, on='Date', how='inner')"
   ]
  },
  {
   "cell_type": "code",
   "execution_count": null,
   "id": "f8087bcf",
   "metadata": {},
   "outputs": [],
   "source": [
    "print(merged_df.head())\n",
    "correlation = merged_df[['Close', 'SentimentScore']].corr().iloc[0, 1]\n",
    "print(f\"相関係数: {correlation:.4f}\")"
   ]
  },
  {
   "cell_type": "markdown",
   "id": "ac1ea1d5",
   "metadata": {},
   "source": [
    "## 可視化"
   ]
  },
  {
   "cell_type": "code",
   "execution_count": null,
   "id": "27750c95",
   "metadata": {},
   "outputs": [],
   "source": [
    "# 折れ線グラフ\n",
    "\n",
    "import matplotlib.pyplot as plt\n",
    "\n",
    "fig, ax1 = plt.subplots(figsize=(12, 6))\n",
    "\n",
    "# 左Y軸：株価\n",
    "color = 'tab:blue'\n",
    "ax1.set_xlabel('Date')\n",
    "ax1.set_ylabel('Stock Price (Close)', color=color)\n",
    "ax1.plot(merged_df['Date'], merged_df['Close'], color=color, marker='o', label='Stock Price')\n",
    "ax1.tick_params(axis='y', labelcolor=color)\n",
    "ax1.tick_params(axis='x', rotation=45)\n",
    "\n",
    "# 右Y軸：感情スコア\n",
    "ax2 = ax1.twinx()\n",
    "color = 'tab:red'\n",
    "ax2.set_ylabel('Sentiment Score', color=color)\n",
    "ax2.plot(merged_df['Date'], merged_df['SentimentScore'], color=color, marker='x', linestyle='--', label='Sentiment Score')\n",
    "ax2.tick_params(axis='y', labelcolor=color)\n",
    "\n",
    "plt.title(f'{ticker} Sentiment Score vs Stock Price')\n",
    "fig.tight_layout()\n",
    "plt.grid(True)\n",
    "plt.show()"
   ]
  },
  {
   "cell_type": "code",
   "execution_count": null,
   "id": "de11736d",
   "metadata": {},
   "outputs": [],
   "source": [
    "# 感情スコアvs株価の散布図\n",
    "import seaborn as sns\n",
    "\n",
    "plt.figure(figsize=(8, 6))\n",
    "sns.regplot(x='SentimentScore', y='Close', data=merged_df)\n",
    "plt.title(f'{ticker} Sentiment Score vs Stock Price (Scatter)')\n",
    "plt.xlabel('Sentiment Score')\n",
    "plt.ylabel('Stock Price (Close)')\n",
    "plt.grid(True)\n",
    "plt.show()"
   ]
  }
 ],
 "metadata": {
  "kernelspec": {
   "display_name": ".venv",
   "language": "python",
   "name": "python3"
  },
  "language_info": {
   "codemirror_mode": {
    "name": "ipython",
    "version": 3
   },
   "file_extension": ".py",
   "mimetype": "text/x-python",
   "name": "python",
   "nbconvert_exporter": "python",
   "pygments_lexer": "ipython3",
   "version": "3.12.1"
  }
 },
 "nbformat": 4,
 "nbformat_minor": 5
}
